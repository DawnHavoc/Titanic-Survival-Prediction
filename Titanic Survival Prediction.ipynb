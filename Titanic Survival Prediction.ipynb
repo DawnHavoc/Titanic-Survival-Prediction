{
 "cells": [
  {
   "cell_type": "markdown",
   "metadata": {},
   "source": [
    "## Import Libraries"
   ]
  },
  {
   "cell_type": "code",
   "execution_count": 71,
   "metadata": {},
   "outputs": [],
   "source": [
    "import numpy as np #for linear algebra\n",
    "import pandas as pd #for reading datasets\n",
    "\n",
    "import matplotlib.pyplot as plt #for plotting graphs\n",
    "import seaborn as sbn \n",
    "sbn.set_theme()\n",
    "\n",
    "import os #for reading files\n",
    "import pathlib #for getting extension of files\n",
    "\n",
    "\n",
    "from sklearn.linear_model import LogisticRegression#models\n",
    "from sklearn.neighbors import KNeighborsClassifier\n",
    "from sklearn.tree import DecisionTreeClassifier\n",
    "from sklearn.svm import SVC\n",
    "from sklearn import svm\n",
    "from sklearn.ensemble import RandomForestClassifier\n",
    "from sklearn.naive_bayes import GaussianNB \n",
    "from sklearn.ensemble import GradientBoostingClassifier\n",
    "from sklearn.model_selection import  GridSearchCV, cross_val_score, StratifiedKFold"
   ]
  },
  {
   "cell_type": "markdown",
   "metadata": {},
   "source": [
    "## Import Data Files"
   ]
  },
  {
   "cell_type": "code",
   "execution_count": 72,
   "metadata": {},
   "outputs": [],
   "source": [
    "path=[]\n",
    "for dirname, _, filenames in os.walk('/Projects'): #'Projects' is the folder name in which the required files are saved\n",
    "    for filename in filenames:\n",
    "        if(pathlib.Path(os.path.join(dirname, filename)).suffix =='.csv'):\n",
    "           path.append(os.path.join(dirname, filename))\n",
    "\n",
    "# os.path.splitext(filename)[1] gives extension like pathlib"
   ]
  },
  {
   "cell_type": "markdown",
   "metadata": {},
   "source": [
    "##### Read the imported files"
   ]
  },
  {
   "cell_type": "code",
   "execution_count": 73,
   "metadata": {},
   "outputs": [],
   "source": [
    "for filename in path:\n",
    "    if(os.path.basename(filename)=='train.csv'): #filename with extension\n",
    "        train_set=pd.read_csv(filename) \n",
    "    elif(os.path.basename(filename)=='test.csv'): \n",
    "        test_set=pd.read_csv(filename)\n",
    "# os.path.splitext(filename)[0] gives full filepath without extension"
   ]
  },
  {
   "cell_type": "markdown",
   "metadata": {},
   "source": [
    "## Exploratory Data Analysis(EDA)"
   ]
  },
  {
   "cell_type": "markdown",
   "metadata": {},
   "source": [
    "##### At first get a brief idea of data i.e features"
   ]
  },
  {
   "cell_type": "code",
   "execution_count": 74,
   "metadata": {},
   "outputs": [
    {
     "data": {
      "text/html": [
       "<div>\n",
       "<style scoped>\n",
       "    .dataframe tbody tr th:only-of-type {\n",
       "        vertical-align: middle;\n",
       "    }\n",
       "\n",
       "    .dataframe tbody tr th {\n",
       "        vertical-align: top;\n",
       "    }\n",
       "\n",
       "    .dataframe thead th {\n",
       "        text-align: right;\n",
       "    }\n",
       "</style>\n",
       "<table border=\"1\" class=\"dataframe\">\n",
       "  <thead>\n",
       "    <tr style=\"text-align: right;\">\n",
       "      <th></th>\n",
       "      <th>PassengerId</th>\n",
       "      <th>Survived</th>\n",
       "      <th>Pclass</th>\n",
       "      <th>Name</th>\n",
       "      <th>Sex</th>\n",
       "      <th>Age</th>\n",
       "      <th>SibSp</th>\n",
       "      <th>Parch</th>\n",
       "      <th>Ticket</th>\n",
       "      <th>Fare</th>\n",
       "      <th>Cabin</th>\n",
       "      <th>Embarked</th>\n",
       "    </tr>\n",
       "  </thead>\n",
       "  <tbody>\n",
       "    <tr>\n",
       "      <th>0</th>\n",
       "      <td>1</td>\n",
       "      <td>0</td>\n",
       "      <td>3</td>\n",
       "      <td>Braund, Mr. Owen Harris</td>\n",
       "      <td>male</td>\n",
       "      <td>22.0</td>\n",
       "      <td>1</td>\n",
       "      <td>0</td>\n",
       "      <td>A/5 21171</td>\n",
       "      <td>7.2500</td>\n",
       "      <td>NaN</td>\n",
       "      <td>S</td>\n",
       "    </tr>\n",
       "    <tr>\n",
       "      <th>1</th>\n",
       "      <td>2</td>\n",
       "      <td>1</td>\n",
       "      <td>1</td>\n",
       "      <td>Cumings, Mrs. John Bradley (Florence Briggs Th...</td>\n",
       "      <td>female</td>\n",
       "      <td>38.0</td>\n",
       "      <td>1</td>\n",
       "      <td>0</td>\n",
       "      <td>PC 17599</td>\n",
       "      <td>71.2833</td>\n",
       "      <td>C85</td>\n",
       "      <td>C</td>\n",
       "    </tr>\n",
       "  </tbody>\n",
       "</table>\n",
       "</div>"
      ],
      "text/plain": [
       "   PassengerId  Survived  Pclass  \\\n",
       "0            1         0       3   \n",
       "1            2         1       1   \n",
       "\n",
       "                                                Name     Sex   Age  SibSp  \\\n",
       "0                            Braund, Mr. Owen Harris    male  22.0      1   \n",
       "1  Cumings, Mrs. John Bradley (Florence Briggs Th...  female  38.0      1   \n",
       "\n",
       "   Parch     Ticket     Fare Cabin Embarked  \n",
       "0      0  A/5 21171   7.2500   NaN        S  \n",
       "1      0   PC 17599  71.2833   C85        C  "
      ]
     },
     "execution_count": 74,
     "metadata": {},
     "output_type": "execute_result"
    }
   ],
   "source": [
    "train_set.head(2)#gives first 2 rows of dataset"
   ]
  },
  {
   "cell_type": "markdown",
   "metadata": {},
   "source": [
    "##### Gather insights of the data now i.e null values"
   ]
  },
  {
   "cell_type": "code",
   "execution_count": 75,
   "metadata": {},
   "outputs": [
    {
     "name": "stdout",
     "output_type": "stream",
     "text": [
      "<class 'pandas.core.frame.DataFrame'>\n",
      "RangeIndex: 891 entries, 0 to 890\n",
      "Data columns (total 12 columns):\n",
      " #   Column       Non-Null Count  Dtype  \n",
      "---  ------       --------------  -----  \n",
      " 0   PassengerId  891 non-null    int64  \n",
      " 1   Survived     891 non-null    int64  \n",
      " 2   Pclass       891 non-null    int64  \n",
      " 3   Name         891 non-null    object \n",
      " 4   Sex          891 non-null    object \n",
      " 5   Age          714 non-null    float64\n",
      " 6   SibSp        891 non-null    int64  \n",
      " 7   Parch        891 non-null    int64  \n",
      " 8   Ticket       891 non-null    object \n",
      " 9   Fare         891 non-null    float64\n",
      " 10  Cabin        204 non-null    object \n",
      " 11  Embarked     889 non-null    object \n",
      "dtypes: float64(2), int64(5), object(5)\n",
      "memory usage: 83.7+ KB\n",
      "\n",
      " ================================================================================ \n",
      "\n",
      "<class 'pandas.core.frame.DataFrame'>\n",
      "RangeIndex: 418 entries, 0 to 417\n",
      "Data columns (total 11 columns):\n",
      " #   Column       Non-Null Count  Dtype  \n",
      "---  ------       --------------  -----  \n",
      " 0   PassengerId  418 non-null    int64  \n",
      " 1   Pclass       418 non-null    int64  \n",
      " 2   Name         418 non-null    object \n",
      " 3   Sex          418 non-null    object \n",
      " 4   Age          332 non-null    float64\n",
      " 5   SibSp        418 non-null    int64  \n",
      " 6   Parch        418 non-null    int64  \n",
      " 7   Ticket       418 non-null    object \n",
      " 8   Fare         417 non-null    float64\n",
      " 9   Cabin        91 non-null     object \n",
      " 10  Embarked     418 non-null    object \n",
      "dtypes: float64(2), int64(4), object(5)\n",
      "memory usage: 36.0+ KB\n",
      "\n",
      " ================================================================================ \n",
      "\n"
     ]
    }
   ],
   "source": [
    "train_set.info()  #gives datatype,count of entries i.e for checking null values in features \n",
    "print(\"\\n\",\"=\"*80,\"\\n\")\n",
    "test_set.info()\n",
    "print(\"\\n\",\"=\"*80,\"\\n\")"
   ]
  },
  {
   "cell_type": "markdown",
   "metadata": {},
   "source": [
    "##### 'Age','Cabin','Embarked','Fare' have null values. Find actual % of null values of all features now"
   ]
  },
  {
   "cell_type": "code",
   "execution_count": 76,
   "metadata": {},
   "outputs": [
    {
     "name": "stdout",
     "output_type": "stream",
     "text": [
      "PassengerId     0.000000\n",
      "Survived        0.000000\n",
      "Pclass          0.000000\n",
      "Name            0.000000\n",
      "Sex             0.000000\n",
      "Age            19.865320\n",
      "SibSp           0.000000\n",
      "Parch           0.000000\n",
      "Ticket          0.000000\n",
      "Fare            0.000000\n",
      "Cabin          77.104377\n",
      "Embarked        0.224467\n",
      "dtype: float64\n",
      "\n",
      " ================================================================================ \n",
      "\n",
      "PassengerId     0.000000\n",
      "Pclass          0.000000\n",
      "Name            0.000000\n",
      "Sex             0.000000\n",
      "Age            20.574163\n",
      "SibSp           0.000000\n",
      "Parch           0.000000\n",
      "Ticket          0.000000\n",
      "Fare            0.239234\n",
      "Cabin          78.229665\n",
      "Embarked        0.000000\n",
      "dtype: float64\n"
     ]
    }
   ],
   "source": [
    "#gives % of null values corresponding to all features\n",
    "print(100*train_set.isnull().sum()/len(train_set))\n",
    "print(\"\\n\",\"=\"*80,\"\\n\")\n",
    "print(100*test_set.isnull().sum()/len(test_set))"
   ]
  },
  {
   "cell_type": "markdown",
   "metadata": {},
   "source": [
    "##### Get a better insight of data i.e mean,s.d,percentiles etc."
   ]
  },
  {
   "cell_type": "code",
   "execution_count": 77,
   "metadata": {},
   "outputs": [
    {
     "name": "stdout",
     "output_type": "stream",
     "text": [
      "       PassengerId    Survived      Pclass         Age       SibSp  \\\n",
      "count   891.000000  891.000000  891.000000  714.000000  891.000000   \n",
      "mean    446.000000    0.383838    2.308642   29.699118    0.523008   \n",
      "std     257.353842    0.486592    0.836071   14.526497    1.102743   \n",
      "min       1.000000    0.000000    1.000000    0.420000    0.000000   \n",
      "25%     223.500000    0.000000    2.000000   20.125000    0.000000   \n",
      "50%     446.000000    0.000000    3.000000   28.000000    0.000000   \n",
      "75%     668.500000    1.000000    3.000000   38.000000    1.000000   \n",
      "max     891.000000    1.000000    3.000000   80.000000    8.000000   \n",
      "\n",
      "            Parch        Fare  \n",
      "count  891.000000  891.000000  \n",
      "mean     0.381594   32.204208  \n",
      "std      0.806057   49.693429  \n",
      "min      0.000000    0.000000  \n",
      "25%      0.000000    7.910400  \n",
      "50%      0.000000   14.454200  \n",
      "75%      0.000000   31.000000  \n",
      "max      6.000000  512.329200  \n",
      "\n",
      " ================================================================================ \n",
      "\n",
      "       PassengerId      Pclass         Age       SibSp       Parch        Fare\n",
      "count   418.000000  418.000000  332.000000  418.000000  418.000000  417.000000\n",
      "mean   1100.500000    2.265550   30.272590    0.447368    0.392344   35.627188\n",
      "std     120.810458    0.841838   14.181209    0.896760    0.981429   55.907576\n",
      "min     892.000000    1.000000    0.170000    0.000000    0.000000    0.000000\n",
      "25%     996.250000    1.000000   21.000000    0.000000    0.000000    7.895800\n",
      "50%    1100.500000    3.000000   27.000000    0.000000    0.000000   14.454200\n",
      "75%    1204.750000    3.000000   39.000000    1.000000    0.000000   31.500000\n",
      "max    1309.000000    3.000000   76.000000    8.000000    9.000000  512.329200\n"
     ]
    }
   ],
   "source": [
    "#gives a vivid insight of data i.e mean,count,max,min,std.50% etc\n",
    "print(train_set.describe())\n",
    "print(\"\\n\",\"=\"*80,\"\\n\")\n",
    "print(test_set.describe())"
   ]
  },
  {
   "cell_type": "markdown",
   "metadata": {},
   "source": [
    "## Inferences of EDA\n",
    "\n",
    "<b> Null values:- </b><br>\n",
    "1.Train set: 19.86% of 'Age', 77.10% of 'Cabin', 0.22% of 'Embarked' <br>\n",
    "2.Test set:  20.57% of 'Age', 78.22% of 'Cabin', 0.23% of 'Fare' \n",
    "\n",
    "\n",
    "<b> Train set description:- </b><br>\n",
    "1)38.38% of passengers survived<br> \n",
    "2)min. age is almost 5 months,max. age is 80 years,avg. age is 29 years<br>\n",
    "3)75% of passengers are below 38 years old<br> \n",
    "4)The range of 'Fare' is high i.e max-min<br> \n",
    "5)'Age' is clustered around its mean but 'Fare' is positively skewed\n",
    "\n",
    "<b>Data Segregation</b><br>\n",
    "1)Numerical features:- 'Fare','Age'<br>\n",
    "2)Categorical features:-'Survived','Pclass',\"Sex','SibSp','Parch','Embarked'<br>\n",
    "3)Target feature:-'Survived'\n",
    "4)Identifiers:-'PassengerId','Ticket','Cabin'\n"
   ]
  },
  {
   "cell_type": "markdown",
   "metadata": {},
   "source": [
    "## Data Visualisation"
   ]
  },
  {
   "cell_type": "markdown",
   "metadata": {},
   "source": [
    "##### Segregation of Numerical and Categorical features based on EDA inference"
   ]
  },
  {
   "cell_type": "code",
   "execution_count": 78,
   "metadata": {},
   "outputs": [],
   "source": [
    "# categorical features\n",
    "categorical_features = ['SibSp', 'Sex', 'Embarked', 'Parch', 'Pclass','Survived']\n",
    "\n",
    "# numeric features\n",
    "numeric_features = ['Age', 'Fare']"
   ]
  },
  {
   "cell_type": "markdown",
   "metadata": {},
   "source": [
    "##### Plot distributions of numerical features"
   ]
  },
  {
   "cell_type": "code",
   "execution_count": 79,
   "metadata": {},
   "outputs": [
    {
     "data": {
      "image/png": "[encoded data removed]",
      "text/plain": [
       "<Figure size 432x288 with 1 Axes>"
      ]
     },
     "metadata": {},
     "output_type": "display_data"
    },
    {
     "data": {
      "image/png": "[encoded data removed]",
      "text/plain": [
       "<Figure size 432x288 with 1 Axes>"
      ]
     },
     "metadata": {},
     "output_type": "display_data"
    }
   ],
   "source": [
    "for var in numeric_features: #Age,Fare are numerical as shown in EDA\n",
    "    sbn.histplot(data=train_set, x=var, kde=True)\n",
    "    plt.show()"
   ]
  },
  {
   "cell_type": "markdown",
   "metadata": {},
   "source": [
    "##### Conclusion from plot:- 'Age' is normalised but 'Fare' is positively skewed"
   ]
  },
  {
   "cell_type": "markdown",
   "metadata": {},
   "source": [
    "##### Plot distributions of categorical features"
   ]
  },
  {
   "cell_type": "code",
   "execution_count": 80,
   "metadata": {},
   "outputs": [
    {
     "data": {
      "image/png": "[encoded data removed]",
      "text/plain": [
       "<Figure size 1440x288 with 6 Axes>"
      ]
     },
     "metadata": {},
     "output_type": "display_data"
    }
   ],
   "source": [
    "plot, ax = plt.subplots(1 , 6,figsize=(20,4)) #countplot to understand imbalance of data\n",
    "i=0\n",
    "for feature in categorical_features:\n",
    "    sbn.countplot(x=train_set[feature],ax=ax[i])\n",
    "    i+=1\n",
    "\n",
    "\n",
    "for i in range(1,6):\n",
    "  ax[i].set_ylabel('')\n",
    "  i+=1  \n",
    "plt.show()"
   ]
  },
  {
   "cell_type": "markdown",
   "metadata": {},
   "source": [
    "##### Conclusion from plot:- <br>\n",
    "1)'Survived' is balanced so can use KNN model<br>\n",
    "2)'Parch','Embarked' is imbalanced"
   ]
  },
  {
   "cell_type": "markdown",
   "metadata": {},
   "source": [
    "## Feature Selection"
   ]
  },
  {
   "cell_type": "markdown",
   "metadata": {},
   "source": [
    "##### Find each feature's relation with target feature 'Survived'"
   ]
  },
  {
   "cell_type": "code",
   "execution_count": 81,
   "metadata": {},
   "outputs": [
    {
     "data": {
      "image/png": "[encoded data removed]",
      "text/plain": [
       "<Figure size 576x288 with 2 Axes>"
      ]
     },
     "metadata": {},
     "output_type": "display_data"
    }
   ],
   "source": [
    "f,ax=plt.subplots(1,2,figsize=(8,4)) #to find if target feature is imbalanced\n",
    "train_set['Survived'].replace({0:\"died\",1:\"survived\"}).value_counts().plot.pie(explode=[0,0.1],autopct='%1.1f%%',ax=ax[0],shadow=True)\n",
    "ax[0].set_ylabel('')\n",
    "sbn.countplot(x = train_set[\"Survived\"].replace({0:\"died\",1:\"survived\"}) , ax = ax[1])\n",
    "plt.show()"
   ]
  },
  {
   "cell_type": "markdown",
   "metadata": {},
   "source": [
    "##### Bar Plot Categorical Features"
   ]
  },
  {
   "cell_type": "code",
   "execution_count": 82,
   "metadata": {},
   "outputs": [
    {
     "data": {
      "image/png": "[encoded data removed]",
      "text/plain": [
       "<Figure size 2160x288 with 5 Axes>"
      ]
     },
     "metadata": {},
     "output_type": "display_data"
    }
   ],
   "source": [
    "plot,ax = plt.subplots(1 , 5 , figsize=(30,4))\n",
    "i=0\n",
    "for feature in categorical_features:\n",
    "    if(feature != 'Survived'):\n",
    "      sbn.barplot(data = train_set , x = feature , y = \"Survived\",ax = ax[i]).set_title(f\"{feature} Vs Survived\")\n",
    "    i+=1 \n",
    "plt.show() "
   ]
  },
  {
   "cell_type": "markdown",
   "metadata": {},
   "source": [
    "##### Histogram Plot Numerical Features"
   ]
  },
  {
   "cell_type": "code",
   "execution_count": 83,
   "metadata": {},
   "outputs": [
    {
     "data": {
      "image/png": "[encoded data removed]",
      "text/plain": [
       "<Figure size 432x288 with 1 Axes>"
      ]
     },
     "metadata": {},
     "output_type": "display_data"
    },
    {
     "data": {
      "image/png": "[encoded data removed]",
      "text/plain": [
       "<Figure size 432x288 with 1 Axes>"
      ]
     },
     "metadata": {},
     "output_type": "display_data"
    }
   ],
   "source": [
    "\n",
    "def survived_hist_plot(feature): #to find correlation age and survived\n",
    "    sbn.histplot(data = train_set , x = feature , hue = \"Survived\",\n",
    "             binwidth=5,palette = sbn.color_palette([\"blue\" , \"orange\"]) ,multiple = \"stack\" ).set_title(feature+\" Vs Survived\")\n",
    "    plt.show()\n",
    "\n",
    "for feature in numeric_features:\n",
    "    survived_hist_plot(feature)"
   ]
  },
  {
   "cell_type": "markdown",
   "metadata": {},
   "source": [
    "## Correlation Analysis"
   ]
  },
  {
   "cell_type": "code",
   "execution_count": 84,
   "metadata": {},
   "outputs": [
    {
     "data": {
      "image/png": "[encoded data removed]",
      "text/plain": [
       "<Figure size 720x576 with 2 Axes>"
      ]
     },
     "metadata": {},
     "output_type": "display_data"
    }
   ],
   "source": [
    "plt.figure(figsize=(10,8))\n",
    "sbn.heatmap(train_set.corr(),annot=True)\n",
    "plt.show()"
   ]
  },
  {
   "cell_type": "markdown",
   "metadata": {},
   "source": [
    "##### Based on Data Visualisation,EDA and Correlation Analysis:-<br>\n",
    "1) 'PassengerId','Cabin','Ticket' are just identifiers<br>\n",
    "2) Pclass and Fare, Pclass and Age are highly correlated - it is possible we can just use one of them for our model "
   ]
  },
  {
   "cell_type": "markdown",
   "metadata": {},
   "source": [
    "##### Survival for each Pclass against age"
   ]
  },
  {
   "cell_type": "code",
   "execution_count": 85,
   "metadata": {},
   "outputs": [
    {
     "data": {
      "image/png": "[encoded data removed]",
      "text/plain": [
       "<Figure size 1008x288 with 3 Axes>"
      ]
     },
     "metadata": {},
     "output_type": "display_data"
    }
   ],
   "source": [
    "plot , ax = plt.subplots(1 , 3 , figsize=(14,4))\n",
    "\n",
    "for i in range(3):\n",
    "    sbn.histplot(data = train_set.loc[train_set[\"Pclass\"]==(i+1)] , x = \"Age\" , hue = \"Survived\",binwidth=5,ax = ax[i],\n",
    "    palette = sbn.color_palette([\"blue\" , \"orange\"]),multiple = \"stack\").set_title(str(i+1)+\"-Pclass\")\n",
    "    \n",
    "plt.show() \n"
   ]
  },
  {
   "cell_type": "markdown",
   "metadata": {},
   "source": [
    "##### Survival for each Sex against age"
   ]
  },
  {
   "cell_type": "code",
   "execution_count": 86,
   "metadata": {},
   "outputs": [
    {
     "data": {
      "image/png": "[encoded data removed]",
      "text/plain": [
       "<Figure size 1008x288 with 2 Axes>"
      ]
     },
     "metadata": {},
     "output_type": "display_data"
    }
   ],
   "source": [
    "plot , ax = plt.subplots(1 , 2 , figsize=(14,4))\n",
    "arr = [\"male\",\"female\"]\n",
    "\n",
    "for i in range(2):\n",
    "    sbn.histplot(data = train_set.loc[train_set[\"Sex\"]==arr[i]] , x = \"Age\" , hue = \"Survived\",binwidth=5,ax = ax[i],\n",
    "    palette = sbn.color_palette([\"blue\" , \"orange\"]),multiple = \"stack\").set_title(arr[i])\n",
    "\n",
    "plt.show()"
   ]
  },
  {
   "cell_type": "markdown",
   "metadata": {},
   "source": [
    "## Data Imputation"
   ]
  },
  {
   "cell_type": "markdown",
   "metadata": {},
   "source": [
    "##### Drop insignificant features like 'PassengerId','Ticket','Cabin'"
   ]
  },
  {
   "cell_type": "code",
   "execution_count": 87,
   "metadata": {},
   "outputs": [],
   "source": [
    "#drop all features that are just identifiers\n",
    "train_set_mod=train_set.copy().drop(columns=[\"PassengerId\",\"Ticket\",\"Cabin\"])\n",
    "test_set_mod=test_set.copy().drop(columns=[\"PassengerId\",\"Ticket\",\"Cabin\"])"
   ]
  },
  {
   "cell_type": "markdown",
   "metadata": {},
   "source": [
    "##### Impute Null Values for Train and Test data"
   ]
  },
  {
   "cell_type": "markdown",
   "metadata": {},
   "source": [
    "<b>Imputation of 'Embark'<b>"
   ]
  },
  {
   "cell_type": "code",
   "execution_count": 88,
   "metadata": {},
   "outputs": [],
   "source": [
    "embark_mode=train_set_mod.Embarked.dropna().max() # impute with most common 'Embark' among the passengers in train set\n",
    "train_set_mod.Embarked.fillna(embark_mode, inplace=True)\n",
    "\n",
    "\n",
    "test_set_mod['Embarked'] = test_set_mod['Embarked'].dropna().map({'S':0,'C':1,'Q':2}).astype(int) #drop null entries in test set"
   ]
  },
  {
   "cell_type": "markdown",
   "metadata": {},
   "source": [
    "<b>Imputation of 'Fare'<b>\n"
   ]
  },
  {
   "cell_type": "code",
   "execution_count": 89,
   "metadata": {},
   "outputs": [],
   "source": [
    "test_set_mod.Fare.fillna(test_set_mod.Fare.dropna().median() , inplace= True)# impute with most common Fare paid"
   ]
  },
  {
   "cell_type": "markdown",
   "metadata": {},
   "source": [
    "<b>Imputation of 'Age'<b>"
   ]
  },
  {
   "cell_type": "code",
   "execution_count": 90,
   "metadata": {},
   "outputs": [
    {
     "name": "stdout",
     "output_type": "stream",
     "text": [
      "Prefix   Sex     Pclass\n",
      "Master.  male    1          5.306667\n",
      "                 2          2.258889\n",
      "                 3          5.350833\n",
      "Miss.    female  1         30.000000\n",
      "                 2         22.241935\n",
      "                 3         16.186567\n",
      "Mr.      male    1         41.629412\n",
      "                 2         32.814815\n",
      "                 3         28.646119\n",
      "Mrs.     female  1         41.606061\n",
      "                 2         33.682927\n",
      "                 3         33.633333\n",
      "other    female  1         31.285714\n",
      "                 2         27.500000\n",
      "                 3         25.000000\n",
      "         male    1         47.307692\n",
      "                 2         40.555556\n",
      "                 3         30.450000\n",
      "Name: Age, dtype: float64\n",
      "Prefix   Sex     Pclass\n",
      "Master.  male    1          9.500000\n",
      "                 2          5.000000\n",
      "                 3          7.117500\n",
      "Miss.    female  1         31.428571\n",
      "                 2         16.528000\n",
      "                 3         19.872647\n",
      "Mr.      male    1         41.488636\n",
      "                 2         31.764151\n",
      "                 3         27.050000\n",
      "Mrs.     female  1         45.606061\n",
      "                 2         33.750000\n",
      "                 3         28.866667\n",
      "other    female  1         39.000000\n",
      "                 2         27.000000\n",
      "                 3         45.000000\n",
      "         male    1         45.375000\n",
      "                 2         33.000000\n",
      "                 3         26.250000\n",
      "Name: Age, dtype: float64\n"
     ]
    }
   ],
   "source": [
    "train_set_mod['Prefix'] = train_set_mod['Name'].str.split(expand=True)[1] #to check if all ages are correctly categorised into children,adult,elder\n",
    "test_set_mod['Prefix'] = test_set_mod['Name'].str.split(expand=True)[1]\n",
    "prefix_train=train_set_mod['Prefix'].value_counts()\n",
    "prefix_test=test_set_mod['Prefix'].value_counts()\n",
    "\n",
    "train_set_mod['Prefix'] = train_set_mod.Prefix.apply(lambda x: x if x in prefix_train[prefix_train>10] else 'other')\n",
    "test_set_mod['Prefix'] = test_set_mod.Prefix.apply(lambda x: x if x in prefix_test[prefix_test>10] else 'other')\n",
    "\n",
    "def impute_mean(series):\n",
    "    return series.fillna(series.mean())\n",
    "\n",
    "by_sex_class = train_set_mod.groupby(['Prefix','Sex', 'Pclass']) #take the mean age of passengers with the same prefix in the same Pclass and Sex\n",
    "train_set_mod.Age = by_sex_class['Age'].transform(impute_mean)\n",
    "print(by_sex_class['Age'].mean())\n",
    "\n",
    "by_sex_class = test_set_mod.groupby(['Prefix','Sex', 'Pclass'])\n",
    "test_set_mod.Age = by_sex_class['Age'].transform(impute_mean)\n",
    "print(by_sex_class['Age'].mean())\n"
   ]
  },
  {
   "cell_type": "markdown",
   "metadata": {},
   "source": [
    "##### Check if imputation is done"
   ]
  },
  {
   "cell_type": "code",
   "execution_count": 91,
   "metadata": {},
   "outputs": [
    {
     "name": "stdout",
     "output_type": "stream",
     "text": [
      "Survived    True\n",
      "Pclass      True\n",
      "Name        True\n",
      "Sex         True\n",
      "Age         True\n",
      "SibSp       True\n",
      "Parch       True\n",
      "Fare        True\n",
      "Embarked    True\n",
      "Prefix      True\n",
      "dtype: bool\n",
      "\n",
      " __________________________________________________ \n",
      "\n",
      "Pclass      True\n",
      "Name        True\n",
      "Sex         True\n",
      "Age         True\n",
      "SibSp       True\n",
      "Parch       True\n",
      "Fare        True\n",
      "Embarked    True\n",
      "Prefix      True\n",
      "dtype: bool\n"
     ]
    }
   ],
   "source": [
    "print(train_set_mod.isnull().sum()==0)\n",
    "print(\"\\n\",\"_\"*50,\"\\n\")\n",
    "print(test_set_mod.isnull().sum()==0)"
   ]
  },
  {
   "cell_type": "markdown",
   "metadata": {},
   "source": [
    "## Data Binning(Handling Outliers)"
   ]
  },
  {
   "cell_type": "markdown",
   "metadata": {},
   "source": [
    "##### Checking outliers using boxplot"
   ]
  },
  {
   "cell_type": "code",
   "execution_count": 92,
   "metadata": {},
   "outputs": [
    {
     "data": {
      "image/png": "[encoded data removed]",
      "text/plain": [
       "<Figure size 2160x288 with 6 Axes>"
      ]
     },
     "metadata": {},
     "output_type": "display_data"
    }
   ],
   "source": [
    "# there are a lot of null values in 'Age' feature\n",
    "# let's check how this feature correlated with others\n",
    "i=0\n",
    "plot , ax = plt.subplots(1 , 6 , figsize=(30,4))\n",
    "for feature in categorical_features:\n",
    "    sbn.boxplot(data = train_set, x = feature, y = 'Age', orient = 'v',ax=ax[i])#can be done by log(Age+1) for normalising\n",
    "    i+=1\n",
    "\n",
    "for i in range(1,6):\n",
    "  ax[i].set_ylabel('')\n",
    "  i+=1 \n",
    "plt.show() \n",
    "    "
   ]
  },
  {
   "cell_type": "markdown",
   "metadata": {},
   "source": [
    "##### Transforming categorical variable 'Sex' into numeric"
   ]
  },
  {
   "cell_type": "code",
   "execution_count": 93,
   "metadata": {},
   "outputs": [],
   "source": [
    "# convert to numerical as machine learning models require categorical variables to be numerical\n",
    "train_set_mod['Sex'] = train_set_mod['Sex'].map( {'female': 1, 'male': 0} ).astype(int)    \n",
    "test_set_mod['Sex'] = test_set_mod['Sex'].map( {'female': 1, 'male': 0} ).astype(int)   "
   ]
  },
  {
   "cell_type": "markdown",
   "metadata": {},
   "source": [
    "##### Convert Categorical variable 'Embarked' in Numeric"
   ]
  },
  {
   "cell_type": "code",
   "execution_count": 94,
   "metadata": {},
   "outputs": [],
   "source": [
    "train_set_mod['Embarked'] = train_set_mod['Embarked'].map({'S':0,'C':1,'Q':2}).astype(int)"
   ]
  },
  {
   "cell_type": "markdown",
   "metadata": {},
   "source": [
    "##### Handling Outliers in 'Age'"
   ]
  },
  {
   "cell_type": "code",
   "execution_count": 95,
   "metadata": {},
   "outputs": [],
   "source": [
    "# age distribution is slightly skewed\n",
    "# equal width binning should be sufficient as we do not expect huge no. of outliers\n",
    "\n",
    "train_set_mod['Age_binned']=pd.cut(train_set_mod['Age'],bins=range(0,80+5,16),labels = range(1,len(range(0,80+5,16))))\n",
    "train_set_mod[['Age_binned', 'Survived']].groupby(['Age_binned'], as_index=False).mean().sort_values(by='Age_binned', ascending=True)\n",
    "\n",
    "test_set_mod['Age_binned']=pd.cut(train_set_mod['Age'],bins=range(0,80+5,16),labels = range(1,len(range(0,80+5,16))))\n",
    "\n",
    "# convert to numeric\n",
    "train_set_mod['Age_binned']=train_set_mod[\"Age_binned\"].cat.codes\n",
    "test_set_mod['Age_binned']=test_set_mod[\"Age_binned\"].cat.codes"
   ]
  },
  {
   "cell_type": "markdown",
   "metadata": {},
   "source": [
    "##### Handling Outliers in 'Fare'"
   ]
  },
  {
   "cell_type": "code",
   "execution_count": 96,
   "metadata": {},
   "outputs": [],
   "source": [
    "# as fare distribution is highly skewed, quantile based binning will be more suitable\n",
    "\n",
    "train_set_mod['Fare_binned']=pd.qcut(train_set_mod['Fare'],q=4,labels = range(1,4+1))\n",
    "train_set_mod[['Fare_binned', 'Survived']].groupby(['Fare_binned'], as_index=False).mean().sort_values(by='Fare_binned', ascending=True)\n",
    "\n",
    "test_set_mod['Fare_binned']=pd.qcut(train_set_mod['Fare'],q=4,labels = range(1,4+1))\n",
    "\n",
    "# convert to numeric\n",
    "train_set_mod['Fare_binned']=train_set_mod[\"Fare_binned\"].cat.codes\n",
    "test_set_mod['Fare_binned']=test_set_mod[\"Fare_binned\"].cat.codes"
   ]
  },
  {
   "cell_type": "markdown",
   "metadata": {},
   "source": [
    "##### Drop 'Age','Fare'after discretization of data"
   ]
  },
  {
   "cell_type": "code",
   "execution_count": 97,
   "metadata": {},
   "outputs": [],
   "source": [
    "# drop those variables that we no longer need after we have binned them\n",
    "train_set_mod.drop([\"Prefix\",\"Age\",\"Fare\"],axis=1,inplace=True)\n",
    "test_set_mod.drop([\"Prefix\",\"Age\",\"Fare\"],axis=1,inplace=True)"
   ]
  },
  {
   "cell_type": "markdown",
   "metadata": {},
   "source": [
    "## Feature Engineering"
   ]
  },
  {
   "cell_type": "markdown",
   "metadata": {},
   "source": [
    "##### Bin where survival chances look different for family size based on Parch and Sibsp. "
   ]
  },
  {
   "cell_type": "code",
   "execution_count": 98,
   "metadata": {},
   "outputs": [
    {
     "data": {
      "text/html": [
       "<div>\n",
       "<style scoped>\n",
       "    .dataframe tbody tr th:only-of-type {\n",
       "        vertical-align: middle;\n",
       "    }\n",
       "\n",
       "    .dataframe tbody tr th {\n",
       "        vertical-align: top;\n",
       "    }\n",
       "\n",
       "    .dataframe thead th {\n",
       "        text-align: right;\n",
       "    }\n",
       "</style>\n",
       "<table border=\"1\" class=\"dataframe\">\n",
       "  <thead>\n",
       "    <tr style=\"text-align: right;\">\n",
       "      <th></th>\n",
       "      <th>FamilySize</th>\n",
       "      <th>Survived</th>\n",
       "    </tr>\n",
       "  </thead>\n",
       "  <tbody>\n",
       "    <tr>\n",
       "      <th>3</th>\n",
       "      <td>4</td>\n",
       "      <td>0.724138</td>\n",
       "    </tr>\n",
       "    <tr>\n",
       "      <th>2</th>\n",
       "      <td>3</td>\n",
       "      <td>0.578431</td>\n",
       "    </tr>\n",
       "    <tr>\n",
       "      <th>1</th>\n",
       "      <td>2</td>\n",
       "      <td>0.552795</td>\n",
       "    </tr>\n",
       "    <tr>\n",
       "      <th>6</th>\n",
       "      <td>7</td>\n",
       "      <td>0.333333</td>\n",
       "    </tr>\n",
       "    <tr>\n",
       "      <th>0</th>\n",
       "      <td>1</td>\n",
       "      <td>0.303538</td>\n",
       "    </tr>\n",
       "    <tr>\n",
       "      <th>4</th>\n",
       "      <td>5</td>\n",
       "      <td>0.200000</td>\n",
       "    </tr>\n",
       "    <tr>\n",
       "      <th>5</th>\n",
       "      <td>6</td>\n",
       "      <td>0.136364</td>\n",
       "    </tr>\n",
       "    <tr>\n",
       "      <th>7</th>\n",
       "      <td>8</td>\n",
       "      <td>0.000000</td>\n",
       "    </tr>\n",
       "    <tr>\n",
       "      <th>8</th>\n",
       "      <td>11</td>\n",
       "      <td>0.000000</td>\n",
       "    </tr>\n",
       "  </tbody>\n",
       "</table>\n",
       "</div>"
      ],
      "text/plain": [
       "   FamilySize  Survived\n",
       "3           4  0.724138\n",
       "2           3  0.578431\n",
       "1           2  0.552795\n",
       "6           7  0.333333\n",
       "0           1  0.303538\n",
       "4           5  0.200000\n",
       "5           6  0.136364\n",
       "7           8  0.000000\n",
       "8          11  0.000000"
      ]
     },
     "execution_count": 98,
     "metadata": {},
     "output_type": "execute_result"
    }
   ],
   "source": [
    "train_set_mod['FamilySize']=train_set_mod['Parch']+train_set_mod['SibSp']+1 #table for survival chances against family size\n",
    "train_set_mod[['FamilySize', 'Survived']].groupby(['FamilySize'], as_index=False).mean().sort_values(by='Survived', ascending=False)"
   ]
  },
  {
   "cell_type": "code",
   "execution_count": 99,
   "metadata": {},
   "outputs": [],
   "source": [
    "\n",
    "test_set_mod['FamilySize']=test_set_mod['Parch']+test_set_mod['SibSp']+1#similary for test set as above\n",
    "\n",
    "\n",
    "train_set_mod.drop(['Parch',\"SibSp\",\"Name\"],axis=1,inplace=True)#drop columns after binning\n",
    "test_set_mod.drop(['Parch',\"SibSp\",\"Name\"],axis=1,inplace=True)\n",
    "\n"
   ]
  },
  {
   "cell_type": "markdown",
   "metadata": {},
   "source": [
    "##### Check modified dataset before using it for model selection"
   ]
  },
  {
   "cell_type": "code",
   "execution_count": 100,
   "metadata": {},
   "outputs": [
    {
     "data": {
      "text/html": [
       "<div>\n",
       "<style scoped>\n",
       "    .dataframe tbody tr th:only-of-type {\n",
       "        vertical-align: middle;\n",
       "    }\n",
       "\n",
       "    .dataframe tbody tr th {\n",
       "        vertical-align: top;\n",
       "    }\n",
       "\n",
       "    .dataframe thead th {\n",
       "        text-align: right;\n",
       "    }\n",
       "</style>\n",
       "<table border=\"1\" class=\"dataframe\">\n",
       "  <thead>\n",
       "    <tr style=\"text-align: right;\">\n",
       "      <th></th>\n",
       "      <th>Survived</th>\n",
       "      <th>Pclass</th>\n",
       "      <th>Sex</th>\n",
       "      <th>Embarked</th>\n",
       "      <th>Age_binned</th>\n",
       "      <th>Fare_binned</th>\n",
       "      <th>FamilySize</th>\n",
       "    </tr>\n",
       "  </thead>\n",
       "  <tbody>\n",
       "    <tr>\n",
       "      <th>0</th>\n",
       "      <td>0</td>\n",
       "      <td>3</td>\n",
       "      <td>0</td>\n",
       "      <td>0</td>\n",
       "      <td>1</td>\n",
       "      <td>0</td>\n",
       "      <td>2</td>\n",
       "    </tr>\n",
       "    <tr>\n",
       "      <th>1</th>\n",
       "      <td>1</td>\n",
       "      <td>1</td>\n",
       "      <td>1</td>\n",
       "      <td>1</td>\n",
       "      <td>2</td>\n",
       "      <td>3</td>\n",
       "      <td>2</td>\n",
       "    </tr>\n",
       "    <tr>\n",
       "      <th>2</th>\n",
       "      <td>1</td>\n",
       "      <td>3</td>\n",
       "      <td>1</td>\n",
       "      <td>0</td>\n",
       "      <td>1</td>\n",
       "      <td>1</td>\n",
       "      <td>1</td>\n",
       "    </tr>\n",
       "    <tr>\n",
       "      <th>3</th>\n",
       "      <td>1</td>\n",
       "      <td>1</td>\n",
       "      <td>1</td>\n",
       "      <td>0</td>\n",
       "      <td>2</td>\n",
       "      <td>3</td>\n",
       "      <td>2</td>\n",
       "    </tr>\n",
       "    <tr>\n",
       "      <th>4</th>\n",
       "      <td>0</td>\n",
       "      <td>3</td>\n",
       "      <td>0</td>\n",
       "      <td>0</td>\n",
       "      <td>2</td>\n",
       "      <td>1</td>\n",
       "      <td>1</td>\n",
       "    </tr>\n",
       "  </tbody>\n",
       "</table>\n",
       "</div>"
      ],
      "text/plain": [
       "   Survived  Pclass  Sex  Embarked  Age_binned  Fare_binned  FamilySize\n",
       "0         0       3    0         0           1            0           2\n",
       "1         1       1    1         1           2            3           2\n",
       "2         1       3    1         0           1            1           1\n",
       "3         1       1    1         0           2            3           2\n",
       "4         0       3    0         0           2            1           1"
      ]
     },
     "execution_count": 100,
     "metadata": {},
     "output_type": "execute_result"
    }
   ],
   "source": [
    "train_set_mod.head()\n"
   ]
  },
  {
   "cell_type": "markdown",
   "metadata": {},
   "source": [
    "## Model"
   ]
  },
  {
   "cell_type": "code",
   "execution_count": 101,
   "metadata": {},
   "outputs": [
    {
     "name": "stdout",
     "output_type": "stream",
     "text": [
      "X_train shape is = (891, 6)\n",
      "Y_train shape is = (891,)\n",
      "Test shape is = (418, 6)\n"
     ]
    }
   ],
   "source": [
    "Y_train=train_set_mod.copy()[\"Survived\"]\n",
    "X_train=train_set_mod.copy().drop(columns=[\"Survived\"])\n",
    "test=test_set_mod.copy()\n",
    "print(f\"X_train shape is = {X_train.shape}\" )\n",
    "print(f\"Y_train shape is = {Y_train.shape}\" )\n",
    "print(f\"Test shape is = {test.shape}\" )"
   ]
  },
  {
   "cell_type": "code",
   "execution_count": 102,
   "metadata": {},
   "outputs": [
    {
     "data": {
      "text/html": [
       "<div>\n",
       "<style scoped>\n",
       "    .dataframe tbody tr th:only-of-type {\n",
       "        vertical-align: middle;\n",
       "    }\n",
       "\n",
       "    .dataframe tbody tr th {\n",
       "        vertical-align: top;\n",
       "    }\n",
       "\n",
       "    .dataframe thead th {\n",
       "        text-align: right;\n",
       "    }\n",
       "</style>\n",
       "<table border=\"1\" class=\"dataframe\">\n",
       "  <thead>\n",
       "    <tr style=\"text-align: right;\">\n",
       "      <th></th>\n",
       "      <th>CrossValMeans</th>\n",
       "      <th>CrossValerrors</th>\n",
       "      <th>Algorithm</th>\n",
       "    </tr>\n",
       "  </thead>\n",
       "  <tbody>\n",
       "    <tr>\n",
       "      <th>0</th>\n",
       "      <td>0.821548</td>\n",
       "      <td>0.026325</td>\n",
       "      <td>SVC</td>\n",
       "    </tr>\n",
       "    <tr>\n",
       "      <th>1</th>\n",
       "      <td>0.805855</td>\n",
       "      <td>0.044580</td>\n",
       "      <td>DecisionTree</td>\n",
       "    </tr>\n",
       "    <tr>\n",
       "      <th>2</th>\n",
       "      <td>0.808140</td>\n",
       "      <td>0.040908</td>\n",
       "      <td>RandomForest</td>\n",
       "    </tr>\n",
       "    <tr>\n",
       "      <th>3</th>\n",
       "      <td>0.792447</td>\n",
       "      <td>0.035346</td>\n",
       "      <td>KNeighboors</td>\n",
       "    </tr>\n",
       "    <tr>\n",
       "      <th>4</th>\n",
       "      <td>0.792372</td>\n",
       "      <td>0.023117</td>\n",
       "      <td>LogisticRegression</td>\n",
       "    </tr>\n",
       "    <tr>\n",
       "      <th>5</th>\n",
       "      <td>0.774457</td>\n",
       "      <td>0.038084</td>\n",
       "      <td>GaussianNB</td>\n",
       "    </tr>\n",
       "  </tbody>\n",
       "</table>\n",
       "</div>"
      ],
      "text/plain": [
       "   CrossValMeans  CrossValerrors           Algorithm\n",
       "0       0.821548        0.026325                 SVC\n",
       "1       0.805855        0.044580        DecisionTree\n",
       "2       0.808140        0.040908        RandomForest\n",
       "3       0.792447        0.035346         KNeighboors\n",
       "4       0.792372        0.023117  LogisticRegression\n",
       "5       0.774457        0.038084          GaussianNB"
      ]
     },
     "execution_count": 102,
     "metadata": {},
     "output_type": "execute_result"
    }
   ],
   "source": [
    "# Cross validate model with Kfold stratified cross val to maintain the same class ratio\n",
    "kfold = StratifiedKFold(n_splits=10)\n",
    "\n",
    "# Test different algorithms\n",
    "random_state = 2\n",
    "classifiers = []\n",
    "classifiers.append(SVC(random_state=random_state))\n",
    "classifiers.append(DecisionTreeClassifier(random_state=random_state))\n",
    "classifiers.append(RandomForestClassifier(random_state=random_state))\n",
    "classifiers.append(KNeighborsClassifier())\n",
    "classifiers.append(LogisticRegression(random_state = random_state))\n",
    "classifiers.append(GaussianNB())\n",
    "\n",
    "cv_results = []\n",
    "for classifier in classifiers :\n",
    "    cv_results.append(cross_val_score(classifier, X_train, y = Y_train, scoring = \"accuracy\", cv = kfold, n_jobs=4))\n",
    "\n",
    "cv_means = []\n",
    "cv_std = []\n",
    "for cv_result in cv_results:\n",
    "    cv_means.append(cv_result.mean())\n",
    "    cv_std.append(cv_result.std())\n",
    "\n",
    "cv_res = pd.DataFrame({\"CrossValMeans\":cv_means,\"CrossValerrors\": cv_std,\"Algorithm\":[\"SVC\",\"DecisionTree\",\"RandomForest\",\"KNeighboors\",\"LogisticRegression\",\"GaussianNB\"]})\n",
    "cv_res"
   ]
  },
  {
   "cell_type": "code",
   "execution_count": 103,
   "metadata": {},
   "outputs": [
    {
     "data": {
      "image/png": "[encoded data removed]",
      "text/plain": [
       "<Figure size 432x288 with 1 Axes>"
      ]
     },
     "metadata": {},
     "output_type": "display_data"
    }
   ],
   "source": [
    "g = sbn.barplot(x=\"CrossValMeans\",y=\"Algorithm\",data = cv_res, palette=\"Set3\",orient = \"h\",**{'xerr':cv_std})\n",
    "g.set_xlabel(\"Mean Accuracy\")\n",
    "g.set_title(\"Cross validation scores\")\n",
    "plt.show()"
   ]
  },
  {
   "cell_type": "markdown",
   "metadata": {},
   "source": [
    "##### Conclusion-CV error between best and worst model"
   ]
  },
  {
   "cell_type": "markdown",
   "metadata": {},
   "source": [
    "## Hyperparameter Tuning"
   ]
  },
  {
   "cell_type": "markdown",
   "metadata": {},
   "source": [
    "##### Support Vector Machine"
   ]
  },
  {
   "cell_type": "code",
   "execution_count": 104,
   "metadata": {},
   "outputs": [
    {
     "name": "stdout",
     "output_type": "stream",
     "text": [
      "Best params:\t{'degree': 2, 'gamma': 'auto', 'kernel': 'rbf', 'nu': 0.5}\n",
      "\n",
      "Best score in grid search:\t0.823\n",
      "Score on whole trained data:\t0.826\n"
     ]
    }
   ],
   "source": [
    "\n",
    "param_grid  = {'kernel': ['linear', 'poly', 'rbf', 'sigmoid'], \n",
    "              'nu': np.arange(0.3, 0.8, 0.2), \n",
    "              'degree': [2, 3, 5], \n",
    "              'gamma' : ['scale', 'auto']}\n",
    "\n",
    "gsSVC = GridSearchCV(svm.NuSVC(random_state = 42), param_grid)\n",
    "gsSVC.fit(X_train, Y_train)\n",
    "gsSVC.best_score_, gsSVC.best_params_\n",
    "\n",
    "print(\"Best params:\",gsSVC.best_params_,sep='\\t',end='\\n\\n')\n",
    "print(\"Best score in grid search:\",round(gsSVC.best_score_,3),sep='\\t')\n",
    "print(\"Score on whole trained data:\",round(gsSVC.score(X_train, Y_train),3),sep='\\t')\n"
   ]
  },
  {
   "cell_type": "markdown",
   "metadata": {},
   "source": [
    "##### Random Forest"
   ]
  },
  {
   "cell_type": "code",
   "execution_count": 105,
   "metadata": {},
   "outputs": [
    {
     "name": "stdout",
     "output_type": "stream",
     "text": [
      "Fitting 10 folds for each of 243 candidates, totalling 2430 fits\n",
      "Best params:\t{'bootstrap': True, 'max_depth': 5, 'max_features': 5, 'min_samples_leaf': 5, 'min_samples_split': 8, 'n_estimators': 5}\n",
      "\n",
      "Best score in grid search:\t0.828\n",
      "Score on whole trained data:\t0.835\n"
     ]
    }
   ],
   "source": [
    "random_forest = RandomForestClassifier(n_estimators=100)\n",
    "\n",
    "param_grid = {\n",
    "    'bootstrap': [True],\n",
    "    'max_depth': [3,4,5],\n",
    "    'max_features': [2, 3,5],\n",
    "    'min_samples_leaf': [3, 4, 5],\n",
    "    'min_samples_split': [8, 10, 12],\n",
    "    \"n_estimators\": [1, 5, 10]\n",
    "}\n",
    "\n",
    "gsRF = GridSearchCV(random_forest, param_grid, cv=kfold, verbose=1)\n",
    "gsRF.fit(X_train, Y_train)\n",
    "\n",
    "print(\"Best params:\",gsRF.best_params_,sep='\\t',end='\\n\\n')\n",
    "print(\"Best score in grid search:\",round(gsRF.best_score_,3),sep='\\t')\n",
    "print(\"Score on whole trained data:\",round(gsRF.score(X_train, Y_train),3),sep='\\t')"
   ]
  },
  {
   "cell_type": "markdown",
   "metadata": {},
   "source": [
    "##### Logistic Regression"
   ]
  },
  {
   "cell_type": "code",
   "execution_count": 106,
   "metadata": {},
   "outputs": [
    {
     "name": "stdout",
     "output_type": "stream",
     "text": [
      "Score on whole trained data:\t0.795\n"
     ]
    }
   ],
   "source": [
    "gsLR = LogisticRegression(random_state=42)\n",
    "gsLR.fit(X_train, Y_train)\n",
    "gsLR.score(X_train, Y_train)\n",
    "print(\"Score on whole trained data:\",round(gsLR.score(X_train, Y_train),3),sep='\\t')"
   ]
  },
  {
   "cell_type": "markdown",
   "metadata": {},
   "source": [
    "##### K-Nearest Neighbour"
   ]
  },
  {
   "cell_type": "code",
   "execution_count": 107,
   "metadata": {},
   "outputs": [
    {
     "name": "stdout",
     "output_type": "stream",
     "text": [
      "Score on whole trained data:\t0.816\n"
     ]
    }
   ],
   "source": [
    "gsKNN = KNeighborsClassifier(n_neighbors=19)\n",
    "gsKNN.fit(X_train,Y_train)\n",
    "gsKNN.score(X_train, Y_train)\n",
    "print(\"Score on whole trained data:\",round(gsKNN.score(X_train, Y_train),3),sep='\\t')"
   ]
  },
  {
   "cell_type": "markdown",
   "metadata": {},
   "source": [
    "##### Gaussian Naive Bayes"
   ]
  },
  {
   "cell_type": "code",
   "execution_count": 108,
   "metadata": {},
   "outputs": [
    {
     "name": "stdout",
     "output_type": "stream",
     "text": [
      "Score on whole trained data:\t0.772\n"
     ]
    }
   ],
   "source": [
    "gsGNB = GaussianNB()\n",
    "gsGNB.fit(X_train, Y_train)\n",
    "gsGNB.score(X_train, Y_train)\n",
    "print(\"Score on whole trained data:\",round(gsGNB.score(X_train, Y_train),3),sep='\\t')"
   ]
  },
  {
   "cell_type": "markdown",
   "metadata": {},
   "source": [
    "### Evaluate model performance"
   ]
  },
  {
   "cell_type": "code",
   "execution_count": 109,
   "metadata": {},
   "outputs": [
    {
     "data": {
      "text/html": [
       "<div>\n",
       "<style scoped>\n",
       "    .dataframe tbody tr th:only-of-type {\n",
       "        vertical-align: middle;\n",
       "    }\n",
       "\n",
       "    .dataframe tbody tr th {\n",
       "        vertical-align: top;\n",
       "    }\n",
       "\n",
       "    .dataframe thead th {\n",
       "        text-align: right;\n",
       "    }\n",
       "</style>\n",
       "<table border=\"1\" class=\"dataframe\">\n",
       "  <thead>\n",
       "    <tr style=\"text-align: right;\">\n",
       "      <th></th>\n",
       "      <th>Model</th>\n",
       "      <th>Score</th>\n",
       "    </tr>\n",
       "  </thead>\n",
       "  <tbody>\n",
       "    <tr>\n",
       "      <th>1</th>\n",
       "      <td>RandomForest</td>\n",
       "      <td>83.50</td>\n",
       "    </tr>\n",
       "    <tr>\n",
       "      <th>0</th>\n",
       "      <td>SVC</td>\n",
       "      <td>82.60</td>\n",
       "    </tr>\n",
       "    <tr>\n",
       "      <th>2</th>\n",
       "      <td>LogisticRegression</td>\n",
       "      <td>81.59</td>\n",
       "    </tr>\n",
       "    <tr>\n",
       "      <th>3</th>\n",
       "      <td>KNeighboors</td>\n",
       "      <td>79.46</td>\n",
       "    </tr>\n",
       "    <tr>\n",
       "      <th>4</th>\n",
       "      <td>GaussianNaiveBayes</td>\n",
       "      <td>77.22</td>\n",
       "    </tr>\n",
       "  </tbody>\n",
       "</table>\n",
       "</div>"
      ],
      "text/plain": [
       "                Model  Score\n",
       "1        RandomForest  83.50\n",
       "0                 SVC  82.60\n",
       "2  LogisticRegression  81.59\n",
       "3         KNeighboors  79.46\n",
       "4  GaussianNaiveBayes  77.22"
      ]
     },
     "execution_count": 109,
     "metadata": {},
     "output_type": "execute_result"
    }
   ],
   "source": [
    "# We just use the model with the best score in grid search.\n",
    "models = pd.DataFrame({\n",
    "    'Model': [\"SVC\",\"RandomForest\",\"LogisticRegression\",\"KNeighboors\",\"GaussianNaiveBayes\"],\n",
    "     'Score':[round(gsSVC.score(X_train, Y_train) * 100, 2),\n",
    "              round(gsRF.score(X_train, Y_train) * 100, 2),\n",
    "              round(gsKNN.score(X_train, Y_train) * 100, 2),\n",
    "              round(gsLR.score(X_train, Y_train) * 100, 2),\n",
    "              round(gsGNB.score(X_train, Y_train) * 100, 2)\n",
    "              ]})\n",
    "models.sort_values(by='Score', ascending=False)"
   ]
  },
  {
   "cell_type": "markdown",
   "metadata": {},
   "source": [
    "## Submission"
   ]
  },
  {
   "cell_type": "code",
   "execution_count": 110,
   "metadata": {},
   "outputs": [],
   "source": [
    "Y_pred = gsRF.predict(test)\n",
    "submission = pd.DataFrame({\n",
    "        \"PassengerId\": test_set[\"PassengerId\"],\n",
    "        \"Survived\": Y_pred\n",
    "    })\n",
    "submission.to_csv('submission.csv', index=False)"
   ]
  }
 ],
 "metadata": {
  "kernelspec": {
   "display_name": "Python 3.7.8 64-bit",
   "language": "python",
   "name": "python3"
  },
  "language_info": {
   "codemirror_mode": {
    "name": "ipython",
    "version": 3
   },
   "file_extension": ".py",
   "mimetype": "text/x-python",
   "name": "python",
   "nbconvert_exporter": "python",
   "pygments_lexer": "ipython3",
   "version": "3.7.8"
  },
  "orig_nbformat": 4,
  "vscode": {
   "interpreter": {
    "hash": "0a106738ee8f7544639b0defc5ce0f6ce65126d5fdba160f2567fd55afeb6a12"
   }
  }
 },
 "nbformat": 4,
 "nbformat_minor": 2
}
